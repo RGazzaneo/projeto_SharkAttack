{
 "cells": [
  {
   "cell_type": "markdown",
   "id": "e3388d75",
   "metadata": {},
   "source": [
    "### Pergunta: Em que mês ocorrem mais mortes portataques de tubarão nos EUA?"
   ]
  },
  {
   "cell_type": "code",
   "execution_count": 2,
   "id": "f33a8ebc",
   "metadata": {},
   "outputs": [],
   "source": [
    "import pandas as pd"
   ]
  },
  {
   "cell_type": "code",
   "execution_count": 4,
   "id": "c106b48b",
   "metadata": {},
   "outputs": [],
   "source": [
    "df=pd.read_csv('attacks.csv')"
   ]
  }
 ],
 "metadata": {
  "kernelspec": {
   "display_name": "Python 3",
   "language": "python",
   "name": "python3"
  },
  "language_info": {
   "codemirror_mode": {
    "name": "ipython",
    "version": 3
   },
   "file_extension": ".py",
   "mimetype": "text/x-python",
   "name": "python",
   "nbconvert_exporter": "python",
   "pygments_lexer": "ipython3",
   "version": "3.8.8"
  }
 },
 "nbformat": 4,
 "nbformat_minor": 5
}
